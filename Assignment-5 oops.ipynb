{
 "cells": [
  {
   "cell_type": "code",
   "execution_count": null,
   "id": "14724452",
   "metadata": {},
   "outputs": [],
   "source": [
    "class py_solution:\n",
    "\n",
    "def pow(self, x, n):\n",
    "\n",
    "if x==0 or x==1 or n==1:\n",
    "\n",
    "return x\n",
    "\n",
    "if x==-1:\n",
    "\n",
    "if n%2 ==0:\n",
    "\n",
    "return 1\n",
    "\n",
    "else:\n",
    "\n",
    "return -1\n",
    "\n",
    "if n==0:\n",
    "\n",
    "return 1\n",
    "\n",
    "if n<0:\n",
    "\n",
    "return 1/self.pow(x,-n)\n",
    "\n",
    "val = self.pow(x,n//2)\n",
    "\n",
    "if n%2 ==0:\n",
    "\n",
    "return val*val\n",
    "\n",
    "return val*val*x\n",
    "\n",
    "x=int(input(\"Base value: \"))\n",
    "\n",
    "n=int(input(\"Power value: \"))\n",
    "\n",
    "p=pow(x,n)\n",
    "\n",
    "print(\"sample Input:\\nx:\",x,\"\\nn:\",n,\"\\nSample Output:\\n\",p)"
   ]
  },
  {
   "cell_type": "code",
   "execution_count": null,
   "id": "ba6a3bed",
   "metadata": {},
   "outputs": [],
   "source": []
  },
  {
   "cell_type": "code",
   "execution_count": null,
   "id": "d5951df8",
   "metadata": {},
   "outputs": [],
   "source": []
  },
  {
   "cell_type": "code",
   "execution_count": null,
   "id": "20029d59",
   "metadata": {},
   "outputs": [],
   "source": []
  }
 ],
 "metadata": {
  "kernelspec": {
   "display_name": "Python 3 (ipykernel)",
   "language": "python",
   "name": "python3"
  },
  "language_info": {
   "codemirror_mode": {
    "name": "ipython",
    "version": 3
   },
   "file_extension": ".py",
   "mimetype": "text/x-python",
   "name": "python",
   "nbconvert_exporter": "python",
   "pygments_lexer": "ipython3",
   "version": "3.10.1"
  }
 },
 "nbformat": 4,
 "nbformat_minor": 5
}
